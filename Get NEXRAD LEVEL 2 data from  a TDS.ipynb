{
 "cells": [
  {
   "cell_type": "code",
   "execution_count": 1,
   "metadata": {
    "collapsed": true
   },
   "outputs": [],
   "source": [
    "from siphon.radarserver import RadarServer, get_radarserver_datasets\n",
    "from datetime import datetime"
   ]
  },
  {
   "cell_type": "markdown",
   "metadata": {},
   "source": [
    "Get the top-level thredds radar server to find the available dataset"
   ]
  },
  {
   "cell_type": "code",
   "execution_count": 2,
   "metadata": {
    "collapsed": true
   },
   "outputs": [],
   "source": [
    "ds = get_radarserver_datasets('http://thredds.ucar.edu/thredds/')"
   ]
  },
  {
   "cell_type": "code",
   "execution_count": 3,
   "metadata": {
    "collapsed": false
   },
   "outputs": [
    {
     "name": "stdout",
     "output_type": "stream",
     "text": [
      "['NEXRAD Level II Radar for Case Study CCS039', 'NEXRAD Level II Radar from IDD', 'NEXRAD Level III Radar for Case Study CCS039', 'NEXRAD Level III Radar from IDD', 'TDWR Level III Radar from IDD']\n"
     ]
    }
   ],
   "source": [
    "print(list(ds.keys()))"
   ]
  },
  {
   "cell_type": "markdown",
   "metadata": {},
   "source": [
    "we are interesting in the NEXRAD LEVEL II data"
   ]
  },
  {
   "cell_type": "code",
   "execution_count": 4,
   "metadata": {
    "collapsed": false
   },
   "outputs": [
    {
     "name": "stdout",
     "output_type": "stream",
     "text": [
      "http://thredds.ucar.edu/thredds/radarServer/nexrad/level2/IDD/dataset.xml\n"
     ]
    }
   ],
   "source": [
    "url = ds['NEXRAD Level II Radar from IDD'].follow().catalog_url\n",
    "print(url)"
   ]
  },
  {
   "cell_type": "code",
   "execution_count": 5,
   "metadata": {
    "collapsed": false
   },
   "outputs": [],
   "source": [
    "rs = RadarServer(url)"
   ]
  },
  {
   "cell_type": "markdown",
   "metadata": {},
   "source": [
    "Find the available stations"
   ]
  },
  {
   "cell_type": "code",
   "execution_count": 6,
   "metadata": {
    "collapsed": false
   },
   "outputs": [
    {
     "data": {
      "text/plain": [
       "{'KABC': Station(id='KABC', elevation=49.0, latitude=60.78, longitude=-161.87, name='ANCHORAGE/Bethel'),\n",
       " 'KABR': Station(id='KABR', elevation=397.0, latitude=45.45, longitude=-98.4, name='ABERDEEN/Aberdeen'),\n",
       " 'KABX': Station(id='KABX', elevation=1789.0, latitude=35.13, longitude=-106.82, name='ALBUQUERQUE/Albuquerque'),\n",
       " 'KACG': Station(id='KACG', elevation=63.0, latitude=56.85, longitude=-135.52, name='JUNEAU/Sitka'),\n",
       " 'KAEC': Station(id='KAEC', elevation=16.0, latitude=64.5, longitude=-165.28, name='FAIRBANKS/Nome'),\n",
       " 'KAHG': Station(id='KAHG', elevation=74.0, latitude=60.72, longitude=-151.35, name='ANCHORAGE/Nikiski'),\n",
       " 'KAIH': Station(id='KAIH', elevation=20.0, latitude=59.45, longitude=-146.3, name='ANCHORAGE/Middleton_Island'),\n",
       " 'KAKC': Station(id='KAKC', elevation=19.0, latitude=58.67, longitude=-156.62, name='ANCHORAGE/King_Salmon'),\n",
       " 'KAKQ': Station(id='KAKQ', elevation=34.0, latitude=36.98, longitude=-77.0, name='WAKEFIELD/Wakefield'),\n",
       " 'KAMA': Station(id='KAMA', elevation=1093.0, latitude=35.23, longitude=-101.7, name='AMARILLO/Amarillo'),\n",
       " 'KAMX': Station(id='KAMX', elevation=4.0, latitude=25.6, longitude=-80.4, name='MIAMI/Miami'),\n",
       " 'KAPD': Station(id='KAPD', elevation=790.0, latitude=65.03, longitude=-147.5, name='FAIRBANKS/Pedro_Dome'),\n",
       " 'KAPX': Station(id='KAPX', elevation=446.0, latitude=44.9, longitude=-84.72, name='NORTH_CENTRAL_LOWER_MICHIGAN'),\n",
       " 'KARX': Station(id='KARX', elevation=389.0, latitude=43.82, longitude=-91.18, name='LA_CROSSE/La_Crosse'),\n",
       " 'KATX': Station(id='KATX', elevation=151.0, latitude=48.18, longitude=-122.48, name='SEATTLE/TACOMA/Camano_Island'),\n",
       " 'KBBX': Station(id='KBBX', elevation=53.0, latitude=39.48, longitude=-121.62, name='SACRAMENTO/Oro_Dam_Blvd_West'),\n",
       " 'KBGM': Station(id='KBGM', elevation=490.0, latitude=42.18, longitude=-75.98, name='BINGHAMTON/Binghamton'),\n",
       " 'KBHX': Station(id='KBHX', elevation=732.0, latitude=40.48, longitude=-124.28, name='EUREKA/Humboldt_County'),\n",
       " 'KBIS': Station(id='KBIS', elevation=505.0, latitude=46.77, longitude=-100.75, name='BISMARCK/Bismarck'),\n",
       " 'KBLX': Station(id='KBLX', elevation=1097.0, latitude=45.85, longitude=-108.6, name='BILLINGS/Yellowstone_County'),\n",
       " 'KBMX': Station(id='KBMX', elevation=197.0, latitude=33.17, longitude=-86.77, name='BIRMINGHAM/Alabaster'),\n",
       " 'KBOX': Station(id='KBOX', elevation=36.0, latitude=41.95, longitude=-71.13, name='BOSTON/Taunton'),\n",
       " 'KBRO': Station(id='KBRO', elevation=7.0, latitude=25.9, longitude=-97.42, name='BROWNSVILLE/Brownsville'),\n",
       " 'KBUF': Station(id='KBUF', elevation=211.0, latitude=42.93, longitude=-78.73, name='BUFFALO/Cheektowaga'),\n",
       " 'KBYX': Station(id='KBYX', elevation=2.0, latitude=24.58, longitude=-81.7, name='MIAMI/Boca_Chica_Key'),\n",
       " 'KCAE': Station(id='KCAE', elevation=70.0, latitude=33.93, longitude=-81.12, name='COLUMBIA/Columbia'),\n",
       " 'KCBW': Station(id='KCBW', elevation=227.0, latitude=46.03, longitude=-67.8, name='PORTLAND/Houlton'),\n",
       " 'KCBX': Station(id='KCBX', elevation=933.0, latitude=43.48, longitude=-116.23, name='BOISE/Ada_County'),\n",
       " 'KCCX': Station(id='KCCX', elevation=733.0, latitude=40.92, longitude=-78.0, name='CENTRAL_PENNSYLVANIA/Rush'),\n",
       " 'KCLE': Station(id='KCLE', elevation=233.0, latitude=41.4, longitude=-81.85, name='CLEVELAND/Cleveland'),\n",
       " 'KCLX': Station(id='KCLX', elevation=30.0, latitude=32.65, longitude=-81.03, name='CHARLESTON/Grays'),\n",
       " 'KCRI': Station(id='KCRI', elevation=370.0, latitude=35.32, longitude=-97.27, name='OKLAHOMA_CITY/Norman'),\n",
       " 'KCRP': Station(id='KCRP', elevation=14.0, latitude=27.78, longitude=-97.5, name='CORPUS_CHRISTI/Corpus_Christ'),\n",
       " 'KCXX': Station(id='KCXX', elevation=97.0, latitude=44.5, longitude=-73.17, name='BURLINGTON/Colchester'),\n",
       " 'KCYS': Station(id='KCYS', elevation=1868.0, latitude=41.15, longitude=-104.8, name='CHEYENNE/Cheyenne'),\n",
       " 'KDAX': Station(id='KDAX', elevation=9.0, latitude=38.5, longitude=-121.67, name='SACRAMENTO/Sacramento'),\n",
       " 'KDDC': Station(id='KDDC', elevation=789.0, latitude=37.75, longitude=-99.97, name='DODGE_CITY/Dodge_City'),\n",
       " 'KDFX': Station(id='KDFX', elevation=345.0, latitude=29.27, longitude=-100.27, name='AUSTIN/SAN_ANTONIO/US_Hwy_90'),\n",
       " 'KDGX': Station(id='KDGX', elevation=186.0, latitude=32.17, longitude=-89.59, name='BRANDON/Jackson'),\n",
       " 'KDIX': Station(id='KDIX', elevation=45.0, latitude=39.93, longitude=-74.4, name='PHILADELPHIA/Manchester'),\n",
       " 'KDLH': Station(id='KDLH', elevation=435.0, latitude=46.83, longitude=-92.2, name='DULUTH/Duluth'),\n",
       " 'KDMX': Station(id='KDMX', elevation=299.0, latitude=41.72, longitude=-93.72, name='DES_MOINES/Johnston'),\n",
       " 'KDOX': Station(id='KDOX', elevation=15.0, latitude=38.82, longitude=-75.43, name='WAKEFIELD/Ellendale_State_Fo'),\n",
       " 'KDTX': Station(id='KDTX', elevation=327.0, latitude=42.68, longitude=-83.47, name='DETROIT/White_Lake'),\n",
       " 'KDVN': Station(id='KDVN', elevation=230.0, latitude=41.6, longitude=-90.57, name='QUAD_CITIES/Davenport'),\n",
       " 'KDYX': Station(id='KDYX', elevation=462.0, latitude=32.53, longitude=-99.25, name='SAN_ANGELO/Shackelford_Count'),\n",
       " 'KEAX': Station(id='KEAX', elevation=303.0, latitude=38.8, longitude=-94.25, name='KANSAS_CITY/PLEASANT_HILL/Pl'),\n",
       " 'KEMX': Station(id='KEMX', elevation=1586.0, latitude=31.88, longitude=-110.62, name='TUCSON/Pima_County'),\n",
       " 'KENX': Station(id='KENX', elevation=557.0, latitude=42.58, longitude=-74.05, name='ALBANY/East_Berne'),\n",
       " 'KEOX': Station(id='KEOX', elevation=132.0, latitude=31.45, longitude=-85.45, name='BIRMINGHAM/Fort_Rucker'),\n",
       " 'KEPZ': Station(id='KEPZ', elevation=1251.0, latitude=31.87, longitude=-106.68, name='EL_PASO/Santa_Teresa'),\n",
       " 'KESX': Station(id='KESX', elevation=1483.0, latitude=35.7, longitude=-114.88, name='LAS_VEGAS/Nelson'),\n",
       " 'KEVX': Station(id='KEVX', elevation=43.0, latitude=30.55, longitude=-85.92, name='TALLAHASSEE/Eglin_AFB'),\n",
       " 'KEWX': Station(id='KEWX', elevation=193.0, latitude=29.7, longitude=-98.02, name='AUSTIN/SAN_ANTONIO/New_Braun'),\n",
       " 'KEYX': Station(id='KEYX', elevation=840.0, latitude=35.08, longitude=-117.55, name='LAS_VEGAS/Edwards_AFB'),\n",
       " 'KFCX': Station(id='KFCX', elevation=874.0, latitude=37.02, longitude=-80.27, name='ROANOKE/Floyd_County'),\n",
       " 'KFDR': Station(id='KFDR', elevation=386.0, latitude=34.35, longitude=-98.97, name='OKLAHOMA_CITY/Altus_AFB'),\n",
       " 'KFDX': Station(id='KFDX', elevation=1417.0, latitude=34.63, longitude=-103.62, name='ALBUQUERQUE/State_Rd_89'),\n",
       " 'KFFC': Station(id='KFFC', elevation=262.0, latitude=33.35, longitude=-84.55, name='ATLANTA/Peachtree_City'),\n",
       " 'KFSD': Station(id='KFSD', elevation=436.0, latitude=43.58, longitude=-96.72, name='SIOUX_FALLS/Sioux_Falls'),\n",
       " 'KFSX': Station(id='KFSX', elevation=2261.0, latitude=34.57, longitude=-111.18, name='FLAGSTAFF/Coconino'),\n",
       " 'KFTG': Station(id='KFTG', elevation=1675.0, latitude=39.78, longitude=-104.53, name='DENVER/BOULDER/Denver'),\n",
       " 'KFWS': Station(id='KFWS', elevation=208.0, latitude=32.57, longitude=-97.3, name='DALLAS/FORT_WORTH/Fort_Worth'),\n",
       " 'KGGW': Station(id='KGGW', elevation=694.0, latitude=48.2, longitude=-106.62, name='GLASGOW/Glasgow'),\n",
       " 'KGJX': Station(id='KGJX', elevation=3045.0, latitude=39.05, longitude=-108.2, name='GRAND_JUNCTION/Mesa'),\n",
       " 'KGLD': Station(id='KGLD', elevation=1113.0, latitude=39.37, longitude=-101.7, name='GOODLAND/Goodland'),\n",
       " 'KGRB': Station(id='KGRB', elevation=208.0, latitude=44.48, longitude=-88.1, name='GREEN_BAY/Ashwaubenon'),\n",
       " 'KGRK': Station(id='KGRK', elevation=164.0, latitude=30.72, longitude=-97.37, name='DALLAS/FORT_WORTH/Ft_Hood'),\n",
       " 'KGRR': Station(id='KGRR', elevation=237.0, latitude=42.88, longitude=-85.53, name='GRAND_RAPIDS/Grand_Rapids'),\n",
       " 'KGSP': Station(id='KGSP', elevation=287.0, latitude=34.88, longitude=-82.22, name='GREENVILLE/SPARTANBURG/Greer'),\n",
       " 'KGUA': Station(id='KGUA', elevation=80.0, latitude=13.45, longitude=144.8, name='GUAM/Barrigada_Communication'),\n",
       " 'KGWX': Station(id='KGWX', elevation=145.0, latitude=33.88, longitude=-88.32, name='MEMPHIS/MS_Hwy_8_and_US_Hwy_27'),\n",
       " 'KGYX': Station(id='KGYX', elevation=125.0, latitude=43.88, longitude=-70.25, name='PORTLAND/Gray'),\n",
       " 'KHDX': Station(id='KHDX', elevation=1287.0, latitude=33.07, longitude=-106.12, name='EL_PASO/White_Sands_Missile'),\n",
       " 'KHGX': Station(id='KHGX', elevation=5.0, latitude=29.47, longitude=-95.07, name='HOUSTON/GALVESTON/Dickinson'),\n",
       " 'KHKI': Station(id='KHKI', elevation=55.0, latitude=21.88, longitude=-159.55, name='HONOLULU/Kauai'),\n",
       " 'KHKM': Station(id='KHKM', elevation=1162.0, latitude=20.12, longitude=-155.77, name='HONOLULU/Kohala'),\n",
       " 'KHMO': Station(id='KHMO', elevation=415.0, latitude=21.12, longitude=-157.17, name='HONOLULU/Molokai'),\n",
       " 'KHNX': Station(id='KHNX', elevation=74.0, latitude=36.3, longitude=-119.62, name='SAN_JOAQUIN_VALLEY/Hanford'),\n",
       " 'KHPX': Station(id='KHPX', elevation=176.0, latitude=36.73, longitude=-87.28, name='PADUCAH/US_Hwy_41_N'),\n",
       " 'KHTX': Station(id='KHTX', elevation=536.0, latitude=34.92, longitude=-86.08, name='BIRMINGHAM/Northeastern_AL'),\n",
       " 'KHWA': Station(id='KHWA', elevation=421.0, latitude=19.08, longitude=-155.57, name='HONOLULU/Hawaii'),\n",
       " 'KICT': Station(id='KICT', elevation=407.0, latitude=37.65, longitude=-97.43, name='WICHITA/Wichita'),\n",
       " 'KICX': Station(id='KICX', elevation=3231.0, latitude=37.58, longitude=-112.85, name='SALT_LAKE_CITY/Cedar_City'),\n",
       " 'KILN': Station(id='KILN', elevation=322.0, latitude=39.42, longitude=-83.82, name='CINCINNATI/Wilmington'),\n",
       " 'KILX': Station(id='KILX', elevation=177.0, latitude=40.15, longitude=-89.33, name='CENTRAL_ILLINOIS/Lincoln'),\n",
       " 'KIND': Station(id='KIND', elevation=241.0, latitude=39.7, longitude=-86.27, name='INDIANAPOLIS/Indianapolis'),\n",
       " 'KINX': Station(id='KINX', elevation=204.0, latitude=36.17, longitude=-95.55, name='TULSA/Inola'),\n",
       " 'KIWA': Station(id='KIWA', elevation=412.0, latitude=33.28, longitude=-111.67, name='PHOENIX/Mesa'),\n",
       " 'KIWX': Station(id='KIWX', elevation=293.0, latitude=41.35, longitude=-85.7, name='NORTHERN_INDIANA/North_Webst'),\n",
       " 'KJAN': Station(id='KJAN', elevation=91.0, latitude=32.32, longitude=-90.07, name='JACKSON/Jackson'),\n",
       " 'KJAX': Station(id='KJAX', elevation=10.0, latitude=30.48, longitude=-81.7, name='JACKSONVILLE/Jacksonville'),\n",
       " 'KJGX': Station(id='KJGX', elevation=159.0, latitude=32.67, longitude=-83.35, name='ATLANTA/State_Hwy_96'),\n",
       " 'KJKL': Station(id='KJKL', elevation=416.0, latitude=37.58, longitude=-83.3, name='JACKSON/Noctor'),\n",
       " 'KJUA': Station(id='KJUA', elevation=852.0, latitude=18.1, longitude=-66.07, name='SAN_JUAN/Cayey'),\n",
       " 'KLBB': Station(id='KLBB', elevation=993.0, latitude=33.65, longitude=-101.8, name='LUBBOCK/Lubbock'),\n",
       " 'KLCH': Station(id='KLCH', elevation=4.0, latitude=30.12, longitude=-93.2, name='LAKE_CHARLES/Lake_Charles'),\n",
       " 'KLIX': Station(id='KLIX', elevation=7.0, latitude=30.33, longitude=-89.82, name='NEW_ORLEANS/BATON_ROUGE/Slid'),\n",
       " 'KLNX': Station(id='KLNX', elevation=905.0, latitude=41.95, longitude=-100.57, name='NORTH_PLATTE/Thedford'),\n",
       " 'KLOT': Station(id='KLOT', elevation=202.0, latitude=41.6, longitude=-88.08, name='CHICAGO/Romeoville'),\n",
       " 'KLRX': Station(id='KLRX', elevation=2056.0, latitude=40.73, longitude=-116.8, name='ELKO/Lander_County'),\n",
       " 'KLSX': Station(id='KLSX', elevation=185.0, latitude=38.68, longitude=-90.67, name='ST._LOUIS/St_Charles'),\n",
       " 'KLTX': Station(id='KLTX', elevation=20.0, latitude=33.98, longitude=-78.42, name='WILMINGTON/Shallotte'),\n",
       " 'KLVX': Station(id='KLVX', elevation=219.0, latitude=37.97, longitude=-85.93, name='LOUISVILLE/Fort_Knox'),\n",
       " 'KLWX': Station(id='KLWX', elevation=83.0, latitude=38.97, longitude=-77.47, name='BALTIMORE/WASH/Sterling'),\n",
       " 'KLZK': Station(id='KLZK', elevation=173.0, latitude=34.83, longitude=-92.25, name='LITTLE_ROCK/N_Little_Rock'),\n",
       " 'KMAF': Station(id='KMAF', elevation=874.0, latitude=31.93, longitude=-102.18, name='MIDLAND/ODESSA/Midland'),\n",
       " 'KMAX': Station(id='KMAX', elevation=2290.0, latitude=42.07, longitude=-122.72, name='MEDFORD/Jackson_County'),\n",
       " 'KMBX': Station(id='KMBX', elevation=455.0, latitude=48.38, longitude=-100.85, name='BISMARCK/McHenry_County'),\n",
       " 'KMHX': Station(id='KMHX', elevation=9.0, latitude=34.77, longitude=-76.87, name='MOREHEAD_CITY/Newport'),\n",
       " 'KMKX': Station(id='KMKX', elevation=292.0, latitude=42.97, longitude=-88.55, name='MILWAUKEE/Dousman'),\n",
       " 'KMLB': Station(id='KMLB', elevation=11.0, latitude=28.1, longitude=-80.65, name='MELBOURNE/Melbourne'),\n",
       " 'KMOB': Station(id='KMOB', elevation=63.0, latitude=30.67, longitude=-88.23, name='MOBILE/Mobile'),\n",
       " 'KMPX': Station(id='KMPX', elevation=288.0, latitude=44.83, longitude=-93.55, name='MINNEAPOLIS/Chanhassen'),\n",
       " 'KMQT': Station(id='KMQT', elevation=430.0, latitude=46.52, longitude=-87.53, name='MARQUETTE/Marquette'),\n",
       " 'KMRX': Station(id='KMRX', elevation=408.0, latitude=36.17, longitude=-83.4, name='KNOXVILLE/TRI-CITIES/Morrist'),\n",
       " 'KMSX': Station(id='KMSX', elevation=2394.0, latitude=47.03, longitude=-113.98, name='MISSOULA/Missoula_County'),\n",
       " 'KMTX': Station(id='KMTX', elevation=1969.0, latitude=41.25, longitude=-112.43, name='SALT_LAKE_CITY/Elder_County'),\n",
       " 'KMUX': Station(id='KMUX', elevation=1057.0, latitude=37.15, longitude=-121.88, name='SAN_FRANCISCO_BAY_AREA/Santa'),\n",
       " 'KMVX': Station(id='KMVX', elevation=301.0, latitude=47.52, longitude=-97.32, name='EASTERN_NORTH_DAKOTA/Mayvill'),\n",
       " 'KMXX': Station(id='KMXX', elevation=122.0, latitude=32.53, longitude=-85.78, name='BIRMINGHAM/Maxwell_AFB'),\n",
       " 'KNKX': Station(id='KNKX', elevation=291.0, latitude=32.92, longitude=-117.03, name='SAN_DIEGO/San_Diego'),\n",
       " 'KNQA': Station(id='KNQA', elevation=86.0, latitude=35.33, longitude=-89.87, name='MEMPHIS/Millington'),\n",
       " 'KOAX': Station(id='KOAX', elevation=350.0, latitude=41.32, longitude=-96.37, name='OMAHA/Valley'),\n",
       " 'KOHX': Station(id='KOHX', elevation=176.0, latitude=36.23, longitude=-86.55, name='NASHVILLE/Old_Hickory'),\n",
       " 'KOKX': Station(id='KOKX', elevation=26.0, latitude=40.85, longitude=-72.85, name='NEW_YORK_CITY/Upton'),\n",
       " 'KOTX': Station(id='KOTX', elevation=727.0, latitude=47.67, longitude=-117.62, name='SPOKANE/Spokane'),\n",
       " 'KPAH': Station(id='KPAH', elevation=119.0, latitude=37.07, longitude=-88.77, name='PADUCAH/Paducah'),\n",
       " 'KPBZ': Station(id='KPBZ', elevation=361.0, latitude=40.52, longitude=-80.22, name='PITTSBURGH/Coraopolis'),\n",
       " 'KPDT': Station(id='KPDT', elevation=462.0, latitude=45.68, longitude=-118.85, name='PENDLETON/Pendleton'),\n",
       " 'KPOE': Station(id='KPOE', elevation=124.0, latitude=31.15, longitude=-92.97, name='LAKE_CHARLES/Fort_Polk'),\n",
       " 'KPUX': Station(id='KPUX', elevation=1600.0, latitude=38.45, longitude=-104.17, name='PUEBLO/Pueblo_County'),\n",
       " 'KRAX': Station(id='KRAX', elevation=106.0, latitude=35.65, longitude=-78.48, name='RALEIGH/DURHAM/Clayton'),\n",
       " 'KRGX': Station(id='KRGX', elevation=2530.0, latitude=39.75, longitude=-119.45, name='RENO/Washoe_County'),\n",
       " 'KRIW': Station(id='KRIW', elevation=1697.0, latitude=43.05, longitude=-108.47, name='RIVERTON/Riverton'),\n",
       " 'KRLX': Station(id='KRLX', elevation=329.0, latitude=38.3, longitude=-81.72, name='CHARLESTON/Ruthdale'),\n",
       " 'KRTX': Station(id='KRTX', elevation=479.0, latitude=45.7, longitude=-122.95, name='PORTLAND/Scappoose'),\n",
       " 'KSFX': Station(id='KSFX', elevation=1364.0, latitude=43.1, longitude=-112.68, name='POCATELLO/IDAHO_FALLS/Spring'),\n",
       " 'KSGF': Station(id='KSGF', elevation=390.0, latitude=37.23, longitude=-93.4, name='SPRINGFIELD/Springfield'),\n",
       " 'KSHV': Station(id='KSHV', elevation=83.0, latitude=32.45, longitude=-93.83, name='SHREVEPORT/Shreveport'),\n",
       " 'KSJT': Station(id='KSJT', elevation=576.0, latitude=31.37, longitude=-100.48, name='SAN_ANGELO/San_Angelo'),\n",
       " 'KSOX': Station(id='KSOX', elevation=923.0, latitude=33.82, longitude=-117.63, name='SAN_DIEGO/Orange_County'),\n",
       " 'KSRX': Station(id='KSRX', elevation=195.0, latitude=35.28, longitude=-94.35, name='TULSA/Western_Arkansas'),\n",
       " 'KTBW': Station(id='KTBW', elevation=12.0, latitude=27.7, longitude=-82.4, name='TAMPA_BAY_AREA/Ruskin'),\n",
       " 'KTFX': Station(id='KTFX', elevation=1132.0, latitude=47.45, longitude=-111.38, name='GREAT_FALLS/Great_Falls'),\n",
       " 'KTLH': Station(id='KTLH', elevation=19.0, latitude=30.38, longitude=-84.32, name='TALLAHASSEE/Tallahassee'),\n",
       " 'KTLX': Station(id='KTLX', elevation=370.0, latitude=35.32, longitude=-97.27, name='OKLAHOMA_CITY/Norman'),\n",
       " 'KTWX': Station(id='KTWX', elevation=417.0, latitude=38.98, longitude=-96.22, name='TOPEKA/Alma'),\n",
       " 'KTYX': Station(id='KTYX', elevation=562.0, latitude=43.76, longitude=-75.76, name='MONTAGUE/Fort_Drum'),\n",
       " 'KUDX': Station(id='KUDX', elevation=919.0, latitude=44.12, longitude=-102.82, name='RAPID_CITY/New_Underwood'),\n",
       " 'KUEX': Station(id='KUEX', elevation=602.0, latitude=40.32, longitude=-98.43, name='HASTINGS/Webster_County'),\n",
       " 'KVAX': Station(id='KVAX', elevation=54.0, latitude=30.88, longitude=-83.0, name='TALLAHASSEE/State_Rd_129'),\n",
       " 'KVBX': Station(id='KVBX', elevation=373.0, latitude=34.83, longitude=-120.38, name='LOS_ANGELES/Orcutt_Oil_Field'),\n",
       " 'KVNX': Station(id='KVNX', elevation=369.0, latitude=36.73, longitude=-98.12, name='OKLAHOMA_CITY/Kegelman_Aux_F'),\n",
       " 'KVTX': Station(id='KVTX', elevation=831.0, latitude=34.4, longitude=-119.17, name='LOS_ANGELES/Ventura_County'),\n",
       " 'KVWX': Station(id='KVWX', elevation=190.0, latitude=38.27, longitude=-87.72, name='EVANSVILLE/Owensville'),\n",
       " 'KYUX': Station(id='KYUX', elevation=53.0, latitude=32.48, longitude=-114.65, name='PHOENIX/Yuma'),\n",
       " 'NOP3': Station(id='NOP3', elevation=370.0, latitude=35.32, longitude=-97.27, name='OKLAHOMA_CITY/Norman'),\n",
       " 'TJUA': Station(id='TJUA', elevation=931.0, latitude=18.12, longitude=-66.08, name='San_Juan/Puerta_Rico')}"
      ]
     },
     "execution_count": 6,
     "metadata": {},
     "output_type": "execute_result"
    }
   ],
   "source": [
    "rs.stations"
   ]
  },
  {
   "cell_type": "markdown",
   "metadata": {},
   "source": [
    "Find the available variables"
   ]
  },
  {
   "cell_type": "code",
   "execution_count": 7,
   "metadata": {
    "collapsed": false
   },
   "outputs": [
    {
     "data": {
      "text/plain": [
       "{'CorrelationCoefficient',\n",
       " 'DifferentialPhase',\n",
       " 'DifferentialReflectivity',\n",
       " 'Reflectivity',\n",
       " 'SpectrumWidth',\n",
       " 'Velocity'}"
      ]
     },
     "execution_count": 7,
     "metadata": {},
     "output_type": "execute_result"
    }
   ],
   "source": [
    "rs.variables"
   ]
  },
  {
   "cell_type": "markdown",
   "metadata": {},
   "source": [
    "Create a query for certain station and variable"
   ]
  },
  {
   "cell_type": "code",
   "execution_count": 8,
   "metadata": {
    "collapsed": true
   },
   "outputs": [],
   "source": [
    "query = rs.query()"
   ]
  },
  {
   "cell_type": "code",
   "execution_count": 9,
   "metadata": {
    "collapsed": false
   },
   "outputs": [
    {
     "data": {
      "text/plain": [
       "var=Reflectivity&time=2017-02-03T18%3A54%3A59.653015&stn=KFWS"
      ]
     },
     "execution_count": 9,
     "metadata": {},
     "output_type": "execute_result"
    }
   ],
   "source": [
    "query.stations('KFWS').time(datetime.utcnow()).variables('Reflectivity')"
   ]
  },
  {
   "cell_type": "code",
   "execution_count": 10,
   "metadata": {
    "collapsed": false
   },
   "outputs": [
    {
     "data": {
      "text/plain": [
       "True"
      ]
     },
     "execution_count": 10,
     "metadata": {},
     "output_type": "execute_result"
    }
   ],
   "source": [
    "rs.validate_query(query)"
   ]
  },
  {
   "cell_type": "markdown",
   "metadata": {},
   "source": [
    "Obtain the the data url that we query"
   ]
  },
  {
   "cell_type": "code",
   "execution_count": 11,
   "metadata": {
    "collapsed": false
   },
   "outputs": [
    {
     "name": "stdout",
     "output_type": "stream",
     "text": [
      "<siphon.catalog.Dataset object at 0x7f92dab34f98>\n"
     ]
    }
   ],
   "source": [
    "catalog = rs.get_catalog(query)\n",
    "print(list(catalog.datasets.values())[0])"
   ]
  },
  {
   "cell_type": "code",
   "execution_count": 12,
   "metadata": {
    "collapsed": false
   },
   "outputs": [
    {
     "data": {
      "text/plain": [
       "{'CdmRemote': 'http://thredds.ucar.edu/thredds/cdmremote/nexrad/level2/IDD/KFWS/20170203/Level2_KFWS_20170203_1851.ar2v',\n",
       " 'HTTPServer': 'http://thredds.ucar.edu/thredds/fileServer/nexrad/level2/IDD/KFWS/20170203/Level2_KFWS_20170203_1851.ar2v',\n",
       " 'OPENDAP': 'http://thredds.ucar.edu/thredds/dodsC/nexrad/level2/IDD/KFWS/20170203/Level2_KFWS_20170203_1851.ar2v'}"
      ]
     },
     "execution_count": 12,
     "metadata": {},
     "output_type": "execute_result"
    }
   ],
   "source": [
    "dss = list(catalog.datasets.values())[0]\n",
    "dss.access_urls"
   ]
  },
  {
   "cell_type": "markdown",
   "metadata": {},
   "source": [
    "Access the data based on CDMRemote reader"
   ]
  },
  {
   "cell_type": "code",
   "execution_count": 13,
   "metadata": {
    "collapsed": true
   },
   "outputs": [],
   "source": [
    "from siphon.cdmr import Dataset\n",
    "data = Dataset(dss.access_urls['CdmRemote'])"
   ]
  },
  {
   "cell_type": "code",
   "execution_count": 14,
   "metadata": {
    "collapsed": false,
    "scrolled": true
   },
   "outputs": [
    {
     "data": {
      "text/plain": [
       "['Reflectivity_HI',\n",
       " 'timeR_HI',\n",
       " 'elevationR_HI',\n",
       " 'azimuthR_HI',\n",
       " 'distanceR_HI',\n",
       " 'numRadialsR_HI',\n",
       " 'numGatesR_HI',\n",
       " 'Reflectivity',\n",
       " 'timeR',\n",
       " 'elevationR',\n",
       " 'azimuthR',\n",
       " 'distanceR',\n",
       " 'numRadialsR',\n",
       " 'numGatesR',\n",
       " 'RadialVelocity_HI',\n",
       " 'timeV_HI',\n",
       " 'elevationV_HI',\n",
       " 'azimuthV_HI',\n",
       " 'distanceV_HI',\n",
       " 'numRadialsV_HI',\n",
       " 'numGatesV_HI',\n",
       " 'RadialVelocity',\n",
       " 'timeV',\n",
       " 'elevationV',\n",
       " 'azimuthV',\n",
       " 'distanceV',\n",
       " 'numRadialsV',\n",
       " 'numGatesV',\n",
       " 'SpectrumWidth_HI',\n",
       " 'SpectrumWidth',\n",
       " 'DifferentialReflectivity_HI',\n",
       " 'timeD_HI',\n",
       " 'elevationD_HI',\n",
       " 'azimuthD_HI',\n",
       " 'distanceD_HI',\n",
       " 'numRadialsD_HI',\n",
       " 'numGatesD_HI',\n",
       " 'DifferentialReflectivity',\n",
       " 'timeD',\n",
       " 'elevationD',\n",
       " 'azimuthD',\n",
       " 'distanceD',\n",
       " 'numRadialsD',\n",
       " 'numGatesD',\n",
       " 'CorrelationCoefficient_HI',\n",
       " 'timeC_HI',\n",
       " 'elevationC_HI',\n",
       " 'azimuthC_HI',\n",
       " 'distanceC_HI',\n",
       " 'numRadialsC_HI',\n",
       " 'numGatesC_HI',\n",
       " 'CorrelationCoefficient',\n",
       " 'timeC',\n",
       " 'elevationC',\n",
       " 'azimuthC',\n",
       " 'distanceC',\n",
       " 'numRadialsC',\n",
       " 'numGatesC',\n",
       " 'DifferentialPhase_HI',\n",
       " 'timeP_HI',\n",
       " 'elevationP_HI',\n",
       " 'azimuthP_HI',\n",
       " 'distanceP_HI',\n",
       " 'numRadialsP_HI',\n",
       " 'numGatesP_HI',\n",
       " 'DifferentialPhase',\n",
       " 'timeP',\n",
       " 'elevationP',\n",
       " 'azimuthP',\n",
       " 'distanceP',\n",
       " 'numRadialsP',\n",
       " 'numGatesP']"
      ]
     },
     "execution_count": 14,
     "metadata": {},
     "output_type": "execute_result"
    }
   ],
   "source": [
    "list(data.variables.keys())"
   ]
  },
  {
   "cell_type": "code",
   "execution_count": 15,
   "metadata": {
    "collapsed": false
   },
   "outputs": [],
   "source": [
    "ng = data.variables['numGatesR'][:]\n",
    "nd = data.variables['distanceR'][:]/1000\n",
    "az = data.variables['azimuthR'][:]\n",
    "elv= data.variables['elevationR'][:]\n",
    "ref = data.variables['Reflectivity'][:]"
   ]
  },
  {
   "cell_type": "code",
   "execution_count": 16,
   "metadata": {
    "collapsed": false
   },
   "outputs": [],
   "source": [
    "import numpy as np\n",
    "x = nd * np.sin(np.deg2rad(az[0,:]))[:, None]\n",
    "y = nd * np.cos(np.deg2rad(az[0,:]))[:, None]\n",
    "#ref = np.ma.array(ref, mask=np.isnan(ref))"
   ]
  },
  {
   "cell_type": "code",
   "execution_count": 17,
   "metadata": {
    "collapsed": false
   },
   "outputs": [],
   "source": [
    "ref = np.ma.array(ref, mask=(ref <= 0))"
   ]
  },
  {
   "cell_type": "markdown",
   "metadata": {},
   "source": [
    "plot the result"
   ]
  },
  {
   "cell_type": "code",
   "execution_count": 19,
   "metadata": {
    "collapsed": false
   },
   "outputs": [
    {
     "data": {
      "text/plain": [
       "(-200, 200)"
      ]
     },
     "execution_count": 19,
     "metadata": {},
     "output_type": "execute_result"
    },
    {
     "data": {
      "image/png": "[encoded data removed]",
      "text/plain": [
       "<matplotlib.figure.Figure at 0x7f92cef97438>"
      ]
     },
     "metadata": {},
     "output_type": "display_data"
    }
   ],
   "source": [
    "%matplotlib inline\n",
    "import matplotlib.pyplot as plt\n",
    "fig, ax = plt.subplots(1, 1, figsize=(9, 8))\n",
    "ax.pcolormesh(x, y, ref[0])\n",
    "ax.set_aspect('equal', 'datalim')\n",
    "ax.set_xlim(-200, 200)\n",
    "ax.set_ylim(-200, 200)"
   ]
  },
  {
   "cell_type": "code",
   "execution_count": null,
   "metadata": {
    "collapsed": true
   },
   "outputs": [],
   "source": []
  }
 ],
 "metadata": {
  "kernelspec": {
   "display_name": "Python 3",
   "language": "python",
   "name": "python3"
  },
  "language_info": {
   "codemirror_mode": {
    "name": "ipython",
    "version": 3
   },
   "file_extension": ".py",
   "mimetype": "text/x-python",
   "name": "python",
   "nbconvert_exporter": "python",
   "pygments_lexer": "ipython3",
   "version": "3.4.5"
  }
 },
 "nbformat": 4,
 "nbformat_minor": 0
}
